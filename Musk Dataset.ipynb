{
 "cells": [
  {
   "cell_type": "markdown",
   "metadata": {},
   "source": [
    "# Musk Dataset"
   ]
  },
  {
   "cell_type": "markdown",
   "metadata": {},
   "source": [
    "# Importing Necessary Libraries"
   ]
  },
  {
   "cell_type": "code",
   "execution_count": 17,
   "metadata": {},
   "outputs": [],
   "source": [
    "import numpy as np\n",
    "import pandas as pd\n",
    "from sklearn.decomposition import PCA\n",
    "from sklearn.utils import shuffle\n",
    "from sklearn.model_selection import train_test_split\n",
    "from keras.models import Sequential\n",
    "from keras.layers import Dense\n",
    "from keras.utils import to_categorical\n",
    "from keras.callbacks import TensorBoard\n",
    "from time import time\n",
    "import matplotlib.pyplot as plt\n",
    "from sklearn.metrics import classification_report\n",
    "from sklearn.preprocessing import StandardScaler\n",
    "import h5py"
   ]
  },
  {
   "cell_type": "markdown",
   "metadata": {},
   "source": [
    "# Reading Data and Data Preprocessing"
   ]
  },
  {
   "cell_type": "code",
   "execution_count": 18,
   "metadata": {},
   "outputs": [],
   "source": [
    "# Reading csv file using pandas\n",
    "data = pd.read_csv('musk_csv.csv')"
   ]
  },
  {
   "cell_type": "code",
   "execution_count": 19,
   "metadata": {},
   "outputs": [
    {
     "data": {
      "text/html": [
       "<div>\n",
       "<style scoped>\n",
       "    .dataframe tbody tr th:only-of-type {\n",
       "        vertical-align: middle;\n",
       "    }\n",
       "\n",
       "    .dataframe tbody tr th {\n",
       "        vertical-align: top;\n",
       "    }\n",
       "\n",
       "    .dataframe thead th {\n",
       "        text-align: right;\n",
       "    }\n",
       "</style>\n",
       "<table border=\"1\" class=\"dataframe\">\n",
       "  <thead>\n",
       "    <tr style=\"text-align: right;\">\n",
       "      <th></th>\n",
       "      <th>ID</th>\n",
       "      <th>molecule_name</th>\n",
       "      <th>conformation_name</th>\n",
       "      <th>f1</th>\n",
       "      <th>f2</th>\n",
       "      <th>f3</th>\n",
       "      <th>f4</th>\n",
       "      <th>f5</th>\n",
       "      <th>f6</th>\n",
       "      <th>f7</th>\n",
       "      <th>...</th>\n",
       "      <th>f158</th>\n",
       "      <th>f159</th>\n",
       "      <th>f160</th>\n",
       "      <th>f161</th>\n",
       "      <th>f162</th>\n",
       "      <th>f163</th>\n",
       "      <th>f164</th>\n",
       "      <th>f165</th>\n",
       "      <th>f166</th>\n",
       "      <th>class</th>\n",
       "    </tr>\n",
       "  </thead>\n",
       "  <tbody>\n",
       "    <tr>\n",
       "      <th>0</th>\n",
       "      <td>1</td>\n",
       "      <td>MUSK-211</td>\n",
       "      <td>211_1+1</td>\n",
       "      <td>46</td>\n",
       "      <td>-108</td>\n",
       "      <td>-60</td>\n",
       "      <td>-69</td>\n",
       "      <td>-117</td>\n",
       "      <td>49</td>\n",
       "      <td>38</td>\n",
       "      <td>...</td>\n",
       "      <td>-308</td>\n",
       "      <td>52</td>\n",
       "      <td>-7</td>\n",
       "      <td>39</td>\n",
       "      <td>126</td>\n",
       "      <td>156</td>\n",
       "      <td>-50</td>\n",
       "      <td>-112</td>\n",
       "      <td>96</td>\n",
       "      <td>1</td>\n",
       "    </tr>\n",
       "    <tr>\n",
       "      <th>1</th>\n",
       "      <td>2</td>\n",
       "      <td>MUSK-211</td>\n",
       "      <td>211_1+10</td>\n",
       "      <td>41</td>\n",
       "      <td>-188</td>\n",
       "      <td>-145</td>\n",
       "      <td>22</td>\n",
       "      <td>-117</td>\n",
       "      <td>-6</td>\n",
       "      <td>57</td>\n",
       "      <td>...</td>\n",
       "      <td>-59</td>\n",
       "      <td>-2</td>\n",
       "      <td>52</td>\n",
       "      <td>103</td>\n",
       "      <td>136</td>\n",
       "      <td>169</td>\n",
       "      <td>-61</td>\n",
       "      <td>-136</td>\n",
       "      <td>79</td>\n",
       "      <td>1</td>\n",
       "    </tr>\n",
       "    <tr>\n",
       "      <th>2</th>\n",
       "      <td>3</td>\n",
       "      <td>MUSK-211</td>\n",
       "      <td>211_1+11</td>\n",
       "      <td>46</td>\n",
       "      <td>-194</td>\n",
       "      <td>-145</td>\n",
       "      <td>28</td>\n",
       "      <td>-117</td>\n",
       "      <td>73</td>\n",
       "      <td>57</td>\n",
       "      <td>...</td>\n",
       "      <td>-134</td>\n",
       "      <td>-154</td>\n",
       "      <td>57</td>\n",
       "      <td>143</td>\n",
       "      <td>142</td>\n",
       "      <td>165</td>\n",
       "      <td>-67</td>\n",
       "      <td>-145</td>\n",
       "      <td>39</td>\n",
       "      <td>1</td>\n",
       "    </tr>\n",
       "    <tr>\n",
       "      <th>3</th>\n",
       "      <td>4</td>\n",
       "      <td>MUSK-211</td>\n",
       "      <td>211_1+12</td>\n",
       "      <td>41</td>\n",
       "      <td>-188</td>\n",
       "      <td>-145</td>\n",
       "      <td>22</td>\n",
       "      <td>-117</td>\n",
       "      <td>-7</td>\n",
       "      <td>57</td>\n",
       "      <td>...</td>\n",
       "      <td>-60</td>\n",
       "      <td>-4</td>\n",
       "      <td>52</td>\n",
       "      <td>104</td>\n",
       "      <td>136</td>\n",
       "      <td>168</td>\n",
       "      <td>-60</td>\n",
       "      <td>-135</td>\n",
       "      <td>80</td>\n",
       "      <td>1</td>\n",
       "    </tr>\n",
       "    <tr>\n",
       "      <th>4</th>\n",
       "      <td>5</td>\n",
       "      <td>MUSK-211</td>\n",
       "      <td>211_1+13</td>\n",
       "      <td>41</td>\n",
       "      <td>-188</td>\n",
       "      <td>-145</td>\n",
       "      <td>22</td>\n",
       "      <td>-117</td>\n",
       "      <td>-7</td>\n",
       "      <td>57</td>\n",
       "      <td>...</td>\n",
       "      <td>-60</td>\n",
       "      <td>-4</td>\n",
       "      <td>52</td>\n",
       "      <td>104</td>\n",
       "      <td>137</td>\n",
       "      <td>168</td>\n",
       "      <td>-60</td>\n",
       "      <td>-135</td>\n",
       "      <td>80</td>\n",
       "      <td>1</td>\n",
       "    </tr>\n",
       "  </tbody>\n",
       "</table>\n",
       "<p>5 rows × 170 columns</p>\n",
       "</div>"
      ],
      "text/plain": [
       "   ID molecule_name conformation_name  f1   f2   f3  f4   f5  f6  f7  ...  \\\n",
       "0   1      MUSK-211           211_1+1  46 -108  -60 -69 -117  49  38  ...   \n",
       "1   2      MUSK-211          211_1+10  41 -188 -145  22 -117  -6  57  ...   \n",
       "2   3      MUSK-211          211_1+11  46 -194 -145  28 -117  73  57  ...   \n",
       "3   4      MUSK-211          211_1+12  41 -188 -145  22 -117  -7  57  ...   \n",
       "4   5      MUSK-211          211_1+13  41 -188 -145  22 -117  -7  57  ...   \n",
       "\n",
       "   f158  f159  f160  f161  f162  f163  f164  f165  f166  class  \n",
       "0  -308    52    -7    39   126   156   -50  -112    96      1  \n",
       "1   -59    -2    52   103   136   169   -61  -136    79      1  \n",
       "2  -134  -154    57   143   142   165   -67  -145    39      1  \n",
       "3   -60    -4    52   104   136   168   -60  -135    80      1  \n",
       "4   -60    -4    52   104   137   168   -60  -135    80      1  \n",
       "\n",
       "[5 rows x 170 columns]"
      ]
     },
     "execution_count": 19,
     "metadata": {},
     "output_type": "execute_result"
    }
   ],
   "source": [
    "# Showing top five row of data\n",
    "data.head()"
   ]
  },
  {
   "cell_type": "code",
   "execution_count": 20,
   "metadata": {},
   "outputs": [
    {
     "data": {
      "text/plain": [
       "ID                   0\n",
       "molecule_name        0\n",
       "conformation_name    0\n",
       "f1                   0\n",
       "f2                   0\n",
       "                    ..\n",
       "f163                 0\n",
       "f164                 0\n",
       "f165                 0\n",
       "f166                 0\n",
       "class                0\n",
       "Length: 170, dtype: int64"
      ]
     },
     "execution_count": 20,
     "metadata": {},
     "output_type": "execute_result"
    }
   ],
   "source": [
    "#Check for  Null Values\n",
    "data.isna().sum()"
   ]
  },
  {
   "cell_type": "code",
   "execution_count": 21,
   "metadata": {},
   "outputs": [
    {
     "data": {
      "text/plain": [
       "ID                   6598\n",
       "molecule_name         102\n",
       "conformation_name    6598\n",
       "f1                    202\n",
       "f2                    260\n",
       "                     ... \n",
       "f163                  292\n",
       "f164                  172\n",
       "f165                  352\n",
       "f166                  385\n",
       "class                   2\n",
       "Length: 170, dtype: int64"
      ]
     },
     "execution_count": 21,
     "metadata": {},
     "output_type": "execute_result"
    }
   ],
   "source": [
    "#Now we see number of unique values in each column of data\n",
    "data.nunique()"
   ]
  },
  {
   "cell_type": "code",
   "execution_count": 22,
   "metadata": {},
   "outputs": [
    {
     "data": {
      "text/plain": [
       "0    5581\n",
       "1    1017\n",
       "Name: class, dtype: int64"
      ]
     },
     "execution_count": 22,
     "metadata": {},
     "output_type": "execute_result"
    }
   ],
   "source": [
    "#Now we see the elements in class variable.\n",
    "data['class'].value_counts()"
   ]
  },
  {
   "cell_type": "markdown",
   "metadata": {},
   "source": [
    "There is imbalance in class variable. 5581 data support class 0 and only 1017 data support class1. \n",
    "Probably it affect the model Accuracy."
   ]
  },
  {
   "cell_type": "code",
   "execution_count": 23,
   "metadata": {},
   "outputs": [
    {
     "data": {
      "text/plain": [
       "Text(0, 0.5, 'Frequency')"
      ]
     },
     "execution_count": 23,
     "metadata": {},
     "output_type": "execute_result"
    },
    {
     "data": {
      "image/png": "[encoded data removed]",
      "text/plain": [
       "<Figure size 432x288 with 1 Axes>"
      ]
     },
     "metadata": {
      "needs_background": "light"
     },
     "output_type": "display_data"
    }
   ],
   "source": [
    "#plotting the dataset frequency\n",
    "labels = ['non-musk', 'musk']\n",
    "classes = pd.value_counts(data['class'],sort = True)\n",
    "classes.plot(kind = 'bar', rot = 0)\n",
    "plt.title(\"class distribution \")\n",
    "plt.xticks(range(2), labels )\n",
    "plt.xlabel(\"Class\")\n",
    "plt.ylabel(\"Frequency\")"
   ]
  },
  {
   "cell_type": "code",
   "execution_count": 24,
   "metadata": {},
   "outputs": [],
   "source": [
    "# Removing Categorical Variable\n",
    "data = data.drop(['molecule_name','ID','conformation_name'],axis=1)\n"
   ]
  },
  {
   "cell_type": "code",
   "execution_count": 25,
   "metadata": {},
   "outputs": [
    {
     "data": {
      "text/html": [
       "<div>\n",
       "<style scoped>\n",
       "    .dataframe tbody tr th:only-of-type {\n",
       "        vertical-align: middle;\n",
       "    }\n",
       "\n",
       "    .dataframe tbody tr th {\n",
       "        vertical-align: top;\n",
       "    }\n",
       "\n",
       "    .dataframe thead th {\n",
       "        text-align: right;\n",
       "    }\n",
       "</style>\n",
       "<table border=\"1\" class=\"dataframe\">\n",
       "  <thead>\n",
       "    <tr style=\"text-align: right;\">\n",
       "      <th></th>\n",
       "      <th>f1</th>\n",
       "      <th>f2</th>\n",
       "      <th>f3</th>\n",
       "      <th>f4</th>\n",
       "      <th>f5</th>\n",
       "      <th>f6</th>\n",
       "      <th>f7</th>\n",
       "      <th>f8</th>\n",
       "      <th>f9</th>\n",
       "      <th>f10</th>\n",
       "      <th>...</th>\n",
       "      <th>f158</th>\n",
       "      <th>f159</th>\n",
       "      <th>f160</th>\n",
       "      <th>f161</th>\n",
       "      <th>f162</th>\n",
       "      <th>f163</th>\n",
       "      <th>f164</th>\n",
       "      <th>f165</th>\n",
       "      <th>f166</th>\n",
       "      <th>class</th>\n",
       "    </tr>\n",
       "  </thead>\n",
       "  <tbody>\n",
       "    <tr>\n",
       "      <th>0</th>\n",
       "      <td>62</td>\n",
       "      <td>-172</td>\n",
       "      <td>27</td>\n",
       "      <td>-75</td>\n",
       "      <td>-108</td>\n",
       "      <td>184</td>\n",
       "      <td>-122</td>\n",
       "      <td>55</td>\n",
       "      <td>-158</td>\n",
       "      <td>-25</td>\n",
       "      <td>...</td>\n",
       "      <td>-268</td>\n",
       "      <td>32</td>\n",
       "      <td>9</td>\n",
       "      <td>24</td>\n",
       "      <td>82</td>\n",
       "      <td>189</td>\n",
       "      <td>-39</td>\n",
       "      <td>-122</td>\n",
       "      <td>139</td>\n",
       "      <td>0</td>\n",
       "    </tr>\n",
       "    <tr>\n",
       "      <th>1</th>\n",
       "      <td>30</td>\n",
       "      <td>-198</td>\n",
       "      <td>-165</td>\n",
       "      <td>140</td>\n",
       "      <td>-116</td>\n",
       "      <td>104</td>\n",
       "      <td>-157</td>\n",
       "      <td>-17</td>\n",
       "      <td>-214</td>\n",
       "      <td>-108</td>\n",
       "      <td>...</td>\n",
       "      <td>-251</td>\n",
       "      <td>-210</td>\n",
       "      <td>-115</td>\n",
       "      <td>121</td>\n",
       "      <td>87</td>\n",
       "      <td>268</td>\n",
       "      <td>-70</td>\n",
       "      <td>-258</td>\n",
       "      <td>-14</td>\n",
       "      <td>0</td>\n",
       "    </tr>\n",
       "    <tr>\n",
       "      <th>2</th>\n",
       "      <td>20</td>\n",
       "      <td>-198</td>\n",
       "      <td>-159</td>\n",
       "      <td>32</td>\n",
       "      <td>-117</td>\n",
       "      <td>131</td>\n",
       "      <td>49</td>\n",
       "      <td>43</td>\n",
       "      <td>-26</td>\n",
       "      <td>-117</td>\n",
       "      <td>...</td>\n",
       "      <td>-273</td>\n",
       "      <td>-201</td>\n",
       "      <td>-133</td>\n",
       "      <td>-97</td>\n",
       "      <td>-14</td>\n",
       "      <td>141</td>\n",
       "      <td>-60</td>\n",
       "      <td>-126</td>\n",
       "      <td>21</td>\n",
       "      <td>1</td>\n",
       "    </tr>\n",
       "    <tr>\n",
       "      <th>3</th>\n",
       "      <td>30</td>\n",
       "      <td>-144</td>\n",
       "      <td>-109</td>\n",
       "      <td>-77</td>\n",
       "      <td>-117</td>\n",
       "      <td>10</td>\n",
       "      <td>27</td>\n",
       "      <td>-95</td>\n",
       "      <td>-20</td>\n",
       "      <td>-21</td>\n",
       "      <td>...</td>\n",
       "      <td>-82</td>\n",
       "      <td>-137</td>\n",
       "      <td>-120</td>\n",
       "      <td>-30</td>\n",
       "      <td>17</td>\n",
       "      <td>602</td>\n",
       "      <td>221</td>\n",
       "      <td>-318</td>\n",
       "      <td>-461</td>\n",
       "      <td>0</td>\n",
       "    </tr>\n",
       "    <tr>\n",
       "      <th>4</th>\n",
       "      <td>36</td>\n",
       "      <td>-138</td>\n",
       "      <td>-144</td>\n",
       "      <td>10</td>\n",
       "      <td>-117</td>\n",
       "      <td>85</td>\n",
       "      <td>58</td>\n",
       "      <td>18</td>\n",
       "      <td>81</td>\n",
       "      <td>-121</td>\n",
       "      <td>...</td>\n",
       "      <td>-237</td>\n",
       "      <td>-161</td>\n",
       "      <td>-68</td>\n",
       "      <td>-35</td>\n",
       "      <td>99</td>\n",
       "      <td>211</td>\n",
       "      <td>-51</td>\n",
       "      <td>-158</td>\n",
       "      <td>129</td>\n",
       "      <td>0</td>\n",
       "    </tr>\n",
       "  </tbody>\n",
       "</table>\n",
       "<p>5 rows × 167 columns</p>\n",
       "</div>"
      ],
      "text/plain": [
       "   f1   f2   f3   f4   f5   f6   f7  f8   f9  f10  ...  f158  f159  f160  \\\n",
       "0  62 -172   27  -75 -108  184 -122  55 -158  -25  ...  -268    32     9   \n",
       "1  30 -198 -165  140 -116  104 -157 -17 -214 -108  ...  -251  -210  -115   \n",
       "2  20 -198 -159   32 -117  131   49  43  -26 -117  ...  -273  -201  -133   \n",
       "3  30 -144 -109  -77 -117   10   27 -95  -20  -21  ...   -82  -137  -120   \n",
       "4  36 -138 -144   10 -117   85   58  18   81 -121  ...  -237  -161   -68   \n",
       "\n",
       "   f161  f162  f163  f164  f165  f166  class  \n",
       "0    24    82   189   -39  -122   139      0  \n",
       "1   121    87   268   -70  -258   -14      0  \n",
       "2   -97   -14   141   -60  -126    21      1  \n",
       "3   -30    17   602   221  -318  -461      0  \n",
       "4   -35    99   211   -51  -158   129      0  \n",
       "\n",
       "[5 rows x 167 columns]"
      ]
     },
     "execution_count": 25,
     "metadata": {},
     "output_type": "execute_result"
    }
   ],
   "source": [
    "# Shuffling the Dataset to generate randomness\n",
    "\n",
    "from sklearn.utils import shuffle\n",
    "\n",
    "df = shuffle(data).reset_index(drop = True)\n",
    "df.head()"
   ]
  },
  {
   "cell_type": "code",
   "execution_count": 26,
   "metadata": {},
   "outputs": [],
   "source": [
    "# Seperating Input & Output variable\n",
    "# X,y value where X containing data with no class column and y with class column of data.\n",
    " \n",
    "X = df.drop('class', axis = 1)\n",
    "Y = df['class']\n",
    "\n",
    "# Converting dataframe object to numpy array\n",
    "\n",
    "X = X.to_numpy()\n",
    "Y = Y.to_numpy()"
   ]
  },
  {
   "cell_type": "markdown",
   "metadata": {},
   "source": [
    "# Feature Scaling"
   ]
  },
  {
   "cell_type": "code",
   "execution_count": 27,
   "metadata": {},
   "outputs": [],
   "source": [
    "scaler = StandardScaler()\n",
    "X_scaled = scaler.fit_transform(X)"
   ]
  },
  {
   "cell_type": "markdown",
   "metadata": {},
   "source": [
    "# Principal Component Analysis(PCA)"
   ]
  },
  {
   "cell_type": "markdown",
   "metadata": {},
   "source": [
    "Introducing Principal component Analysis because we have many variables. So we reduce our variable. We will convert 166 variable to the optimal components variable which equally represent the 166 variable."
   ]
  },
  {
   "cell_type": "code",
   "execution_count": 28,
   "metadata": {},
   "outputs": [
    {
     "data": {
      "text/plain": [
       "39"
      ]
     },
     "execution_count": 28,
     "metadata": {},
     "output_type": "execute_result"
    }
   ],
   "source": [
    "# Finding the optimal number of features after maintaining 95% variance\n",
    "pca = PCA()\n",
    "pca.fit(X_scaled)\n",
    "\n",
    "current_variance= 0\n",
    "total = sum(pca.explained_variance_)\n",
    "optimal_components = 0\n",
    "while current_variance/total < 0.95:\n",
    "    current_variance+=pca.explained_variance_[optimal_components]\n",
    "    optimal_components+=1\n",
    "    \n",
    "optimal_components"
   ]
  },
  {
   "cell_type": "markdown",
   "metadata": {},
   "source": [
    "We have recieved 39 as the optimal_components. So we will use this variable as our input_dim parameter when we will be building model"
   ]
  },
  {
   "cell_type": "code",
   "execution_count": 45,
   "metadata": {},
   "outputs": [
    {
     "data": {
      "image/png": "[encoded data removed]",
      "text/plain": [
       "<Figure size 432x288 with 1 Axes>"
      ]
     },
     "metadata": {
      "needs_background": "light"
     },
     "output_type": "display_data"
    }
   ],
   "source": [
    "\n",
    "plt.plot(np.cumsum(pca.explained_variance_ratio_))\n",
    "plt.xlabel('Number of Components')\n",
    "plt.ylabel('Variance (%)')\n",
    "plt.title('Musk Dataset PCA Analysis')\n",
    "\n",
    "plt.annotate('optimal-components(0.95 , 39)', xy=(39, 0.95), xytext=(70, 0.9),\n",
    "            arrowprops=dict(facecolor='black', shrink=0.05),\n",
    "            )\n",
    "plt.grid()"
   ]
  },
  {
   "cell_type": "markdown",
   "metadata": {},
   "source": [
    "# Splitting Dataset Into Training & Testing"
   ]
  },
  {
   "cell_type": "code",
   "execution_count": 30,
   "metadata": {},
   "outputs": [],
   "source": [
    "#80-20 Split Ratio is maintained\n",
    "\n",
    "x_train, x_test, y_train,y_test = train_test_split(X_scaled,Y,test_size = 0.20,random_state = 0)"
   ]
  },
  {
   "cell_type": "code",
   "execution_count": 31,
   "metadata": {},
   "outputs": [],
   "source": [
    "# Transforming our x_train and x_test into pca components\n",
    "pca1 = PCA(n_components=optimal_components)\n",
    "x_train_pca = pca1.fit_transform(x_train)\n",
    "x_test_pca = pca1.transform(x_test)"
   ]
  },
  {
   "cell_type": "markdown",
   "metadata": {},
   "source": [
    "# Building Model"
   ]
  },
  {
   "cell_type": "code",
   "execution_count": 32,
   "metadata": {},
   "outputs": [],
   "source": [
    "# Initialising Model\n",
    "model = Sequential()"
   ]
  },
  {
   "cell_type": "code",
   "execution_count": 33,
   "metadata": {},
   "outputs": [
    {
     "name": "stdout",
     "output_type": "stream",
     "text": [
      "Model: \"sequential\"\n",
      "_________________________________________________________________\n",
      "Layer (type)                 Output Shape              Param #   \n",
      "=================================================================\n",
      "dense (Dense)                (None, 20)                800       \n",
      "_________________________________________________________________\n",
      "dense_1 (Dense)              (None, 20)                420       \n",
      "_________________________________________________________________\n",
      "dense_2 (Dense)              (None, 2)                 42        \n",
      "=================================================================\n",
      "Total params: 1,262\n",
      "Trainable params: 1,262\n",
      "Non-trainable params: 0\n",
      "_________________________________________________________________\n"
     ]
    }
   ],
   "source": [
    "# Adding the inpur layer and the first Hidden Layer \n",
    "model.add(Dense(20, activation = 'relu',\n",
    "                kernel_initializer = 'random_normal', input_dim = optimal_components))\n",
    "# Hidden Layer 2\n",
    "model.add(Dense(20, activation = 'relu',\n",
    "               kernel_initializer = 'random_normal'))\n",
    "# Output Layer\n",
    "model.add(Dense(2, activation = 'sigmoid',\n",
    "               kernel_initializer = 'random_normal'))\n",
    "model.summary()"
   ]
  },
  {
   "cell_type": "code",
   "execution_count": 34,
   "metadata": {},
   "outputs": [],
   "source": [
    "# Compiling Model with Adam optimizer.\n",
    "model.compile(loss = 'binary_crossentropy',optimizer = 'adam', metrics = ['accuracy'])"
   ]
  },
  {
   "cell_type": "code",
   "execution_count": 35,
   "metadata": {},
   "outputs": [],
   "source": [
    "tensorBoard = TensorBoard(log_dir = 'logs/{}'.format(time()))"
   ]
  },
  {
   "cell_type": "code",
   "execution_count": 36,
   "metadata": {},
   "outputs": [
    {
     "name": "stdout",
     "output_type": "stream",
     "text": [
      "Epoch 1/10\n",
      "  1/264 [..............................] - ETA: 0s - loss: 0.6915 - accuracy: 0.7500WARNING:tensorflow:From C:\\Users\\Milan\\anaconda3\\lib\\site-packages\\tensorflow\\python\\ops\\summary_ops_v2.py:1277: stop (from tensorflow.python.eager.profiler) is deprecated and will be removed after 2020-07-01.\n",
      "Instructions for updating:\n",
      "use `tf.profiler.experimental.stop` instead.\n",
      "WARNING:tensorflow:Callbacks method `on_train_batch_end` is slow compared to the batch time (batch time: 0.0010s vs `on_train_batch_end` time: 0.0170s). Check your callbacks.\n",
      "264/264 [==============================] - 0s 1ms/step - loss: 0.3441 - accuracy: 0.8465 - val_loss: 0.2365 - val_accuracy: 0.8432\n",
      "Epoch 2/10\n",
      "264/264 [==============================] - 0s 618us/step - loss: 0.1937 - accuracy: 0.9072 - val_loss: 0.1970 - val_accuracy: 0.9303\n",
      "Epoch 3/10\n",
      "264/264 [==============================] - 0s 621us/step - loss: 0.1614 - accuracy: 0.9513 - val_loss: 0.1664 - val_accuracy: 0.9492\n",
      "Epoch 4/10\n",
      "264/264 [==============================] - 0s 667us/step - loss: 0.1367 - accuracy: 0.9680 - val_loss: 0.1414 - val_accuracy: 0.9591\n",
      "Epoch 5/10\n",
      "264/264 [==============================] - 0s 620us/step - loss: 0.1186 - accuracy: 0.9748 - val_loss: 0.1265 - val_accuracy: 0.9629\n",
      "Epoch 6/10\n",
      "264/264 [==============================] - 0s 610us/step - loss: 0.1033 - accuracy: 0.9793 - val_loss: 0.1139 - val_accuracy: 0.9697\n",
      "Epoch 7/10\n",
      "264/264 [==============================] - 0s 610us/step - loss: 0.0905 - accuracy: 0.9829 - val_loss: 0.1041 - val_accuracy: 0.9697\n",
      "Epoch 8/10\n",
      "264/264 [==============================] - 0s 606us/step - loss: 0.0807 - accuracy: 0.9864 - val_loss: 0.0905 - val_accuracy: 0.9758\n",
      "Epoch 9/10\n",
      "264/264 [==============================] - 0s 609us/step - loss: 0.0706 - accuracy: 0.9873 - val_loss: 0.0796 - val_accuracy: 0.9788\n",
      "Epoch 10/10\n",
      "264/264 [==============================] - 0s 618us/step - loss: 0.0627 - accuracy: 0.9894 - val_loss: 0.0787 - val_accuracy: 0.9742\n"
     ]
    },
    {
     "data": {
      "text/plain": [
       "['loss', 'accuracy']"
      ]
     },
     "execution_count": 36,
     "metadata": {},
     "output_type": "execute_result"
    }
   ],
   "source": [
    "#Now we fit the model with X_train_pca , Y_train with  validation sets of X_test_pca, Y_test. \n",
    "history = model.fit(x_train_pca,to_categorical(y_train, num_classes = 2), epochs= 10 , batch_size = 20,\n",
    "          validation_data = (x_test_pca,to_categorical(y_test, num_classes = 2)),\n",
    "         callbacks = [tensorBoard])\n",
    "model.metrics_names"
   ]
  },
  {
   "cell_type": "code",
   "execution_count": 37,
   "metadata": {},
   "outputs": [],
   "source": [
    "# Saving the model\n",
    "model.save('model_musk.h5')"
   ]
  },
  {
   "cell_type": "markdown",
   "metadata": {},
   "source": [
    "Now we plot Model Accuracy and Model loss w.r.t epoch."
   ]
  },
  {
   "cell_type": "code",
   "execution_count": 21,
   "metadata": {},
   "outputs": [
    {
     "data": {
      "image/png": "[encoded data removed]",
      "text/plain": [
       "<Figure size 432x288 with 1 Axes>"
      ]
     },
     "metadata": {
      "needs_background": "light"
     },
     "output_type": "display_data"
    }
   ],
   "source": [
    "# Model Accuracy\n",
    "\n",
    "plt.plot(history.history['accuracy'])\n",
    "plt.plot(history.history['val_accuracy'])\n",
    "plt.title('Model Accuracy')\n",
    "plt.ylabel('accuracy')\n",
    "plt.xlabel('epoch')\n",
    "plt.legend(['train', 'test'], loc = 'upper left')\n",
    "plt.grid()\n",
    "# plt.savefig('Model-Accuracy-Updated.png')"
   ]
  },
  {
   "cell_type": "code",
   "execution_count": 22,
   "metadata": {},
   "outputs": [
    {
     "data": {
      "image/png": "[encoded data removed]",
      "text/plain": [
       "<Figure size 432x288 with 1 Axes>"
      ]
     },
     "metadata": {
      "needs_background": "light"
     },
     "output_type": "display_data"
    }
   ],
   "source": [
    "# Model Loss\n",
    "\n",
    "plt.plot(history.history['loss'])\n",
    "plt.plot(history.history['val_loss'])\n",
    "plt.ylabel('loss')\n",
    "plt.xlabel('epochs')\n",
    "plt.title('Model Loss')\n",
    "plt.legend(['train','test'])\n",
    "plt.grid()\n",
    "# plt.savefig('Model-Loss-Updated.png')"
   ]
  },
  {
   "cell_type": "code",
   "execution_count": 39,
   "metadata": {},
   "outputs": [],
   "source": [
    "#Now we predict the value for X_test_pca.\n",
    "y_predicted = model.predict(x_test_pca, batch_size = 20)\n",
    "y_pred_bool = np.argmax(y_predicted, axis=1)"
   ]
  },
  {
   "cell_type": "code",
   "execution_count": 41,
   "metadata": {},
   "outputs": [
    {
     "name": "stdout",
     "output_type": "stream",
     "text": [
      "              precision    recall  f1-score   support\n",
      "\n",
      "           0       0.98      0.99      0.98      1113\n",
      "           1       0.95      0.88      0.91       207\n",
      "\n",
      "    accuracy                           0.97      1320\n",
      "   macro avg       0.97      0.94      0.95      1320\n",
      "weighted avg       0.97      0.97      0.97      1320\n",
      "\n"
     ]
    }
   ],
   "source": [
    "print(classification_report(y_test,y_pred_bool))"
   ]
  },
  {
   "cell_type": "markdown",
   "metadata": {},
   "source": []
  },
  {
   "cell_type": "code",
   "execution_count": null,
   "metadata": {},
   "outputs": [],
   "source": []
  }
 ],
 "metadata": {
  "kernelspec": {
   "display_name": "Python 3",
   "language": "python",
   "name": "python3"
  },
  "language_info": {
   "codemirror_mode": {
    "name": "ipython",
    "version": 3
   },
   "file_extension": ".py",
   "mimetype": "text/x-python",
   "name": "python",
   "nbconvert_exporter": "python",
   "pygments_lexer": "ipython3",
   "version": "3.8.5"
  }
 },
 "nbformat": 4,
 "nbformat_minor": 4
}
